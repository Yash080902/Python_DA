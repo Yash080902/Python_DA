{
 "cells": [
  {
   "cell_type": "markdown",
   "metadata": {},
   "source": [
    "# Branching using Conditional Statements and Loops in Python\n",
    "\n",
    "![](https://i.imgur.com/7RfcHV0.png)"
   ]
  },
  {
   "cell_type": "markdown",
   "metadata": {},
   "source": [
    "This tutorial covers the following topics:\n",
    "\n",
    "- Branching with `if`, `else` and `elif`\n",
    "- Nested conditions and `if` expressions\n",
    "- Iteration with `while` loops\n",
    "- Iterating over containers with `for` loops\n",
    "- Nested loops, `break` and `continue` statements"
   ]
  },
  {
   "cell_type": "code",
   "execution_count": 1,
   "metadata": {},
   "outputs": [
    {
     "name": "stdout",
     "output_type": "stream",
     "text": [
      "We're inside an if block\n",
      "The given number 34 is even.\n"
     ]
    }
   ],
   "source": [
    "a_number = 34\n",
    "\n",
    "if a_number % 2 == 0:\n",
    "    print(\"We're inside an if block\")\n",
    "    print('The given number {} is even.'.format(a_number)) #format string hai ye to simple"
   ]
  },
  {
   "cell_type": "code",
   "execution_count": 2,
   "metadata": {},
   "outputs": [
    {
     "name": "stdout",
     "output_type": "stream",
     "text": [
      "This is the 3 multiple Number:-33\n"
     ]
    }
   ],
   "source": [
    "another_number = 33\n",
    "if another_number % 3==0:\n",
    "    print(\"This is the 3 multiple Number:-{}\".format(another_number))\n"
   ]
  },
  {
   "cell_type": "code",
   "execution_count": 4,
   "metadata": {},
   "outputs": [],
   "source": [
    "names = [\"yash\", \"rohan\", \"adesh\"] # YE meri ek list hai"
   ]
  },
  {
   "cell_type": "code",
   "execution_count": 5,
   "metadata": {},
   "outputs": [
    {
     "name": "stdout",
     "output_type": "stream",
     "text": [
      "Yash is present names\n"
     ]
    }
   ],
   "source": [
    "if \"yash\" in  names:\n",
    "    print(\"Yash is present {}\".format(\"names\"))\n",
    "else:\n",
    "    print(\"No worry we will find Yash\")"
   ]
  },
  {
   "cell_type": "markdown",
   "metadata": {},
   "source": [
    "### The `elif` statement\n",
    "\n",
    "Python also provides an `elif` statement (short for \"else if\") to chain a series of conditional blocks. The conditions are evaluated one by one. For the first condition that evaluates to `True`, the block of statements below it is executed. The remaining conditions and statements are not evaluated. So, in an `if`, `elif`, `elif`... chain, at most one block of statements is executed, the one corresponding to the first condition that evaluates to `True`. "
   ]
  },
  {
   "cell_type": "code",
   "execution_count": 8,
   "metadata": {},
   "outputs": [
    {
     "name": "stdout",
     "output_type": "stream",
     "text": [
      "Today is the day of Tyr, the god of war.\n"
     ]
    }
   ],
   "source": [
    "\n",
    "today = input(\"Enter the day you want to search: \")\n",
    "\n",
    "if today == 'Sunday':\n",
    "    print(\"Today is the day of the sun.\")\n",
    "elif today == 'Monday':\n",
    "    print(\"Today is the day of the moon.\")\n",
    "elif today == 'Tuesday':\n",
    "    print(\"Today is the day of Tyr, the god of war.\")\n",
    "elif today == 'Wednesday':\n",
    "    print(\"Today is the day of Odin, the supreme diety.\")\n",
    "elif today == 'Thursday':\n",
    "    print(\"Today is the day of Thor, the god of thunder.\")\n",
    "elif today == 'Friday':\n",
    "    print(\"Today is the day of Frigga, the goddess of beauty.\")\n",
    "elif today == 'Saturday':\n",
    "    print(\"Today is the day of Saturn, the god of fun and feasting.\") \n",
    "    \n",
    "    #if one statement is correct then after that corrected statement all the statement not compile"
   ]
  },
  {
   "cell_type": "markdown",
   "metadata": {},
   "source": [
    "### Non-Boolean Conditions\n",
    "\n",
    "Note that conditions do not necessarily have to be booleans. In fact, a condition can be any value. The value is converted into a boolean automatically using the `bool` operator. This means that falsy values like `0`, `''`, `{}`, `[]`, etc. evaluate to `False` and all other values evaluate to `True`."
   ]
  },
  {
   "cell_type": "code",
   "execution_count": 9,
   "metadata": {},
   "outputs": [
    {
     "name": "stdout",
     "output_type": "stream",
     "text": [
      "The condition evaluted to False\n"
     ]
    }
   ],
   "source": [
    "if None:\n",
    "    print('The condition evaluted to True')\n",
    "else:\n",
    "    print('The condition evaluted to False')"
   ]
  },
  {
   "cell_type": "markdown",
   "metadata": {},
   "source": [
    "Python provides a shorter syntax, which allows writing such conditions in a single line of code. It is known as a *conditional expression*, sometimes also referred to as a *ternary operator*. It has the following syntax:\n",
    "\n",
    "```\n",
    "x = true_value if condition else false_value\n",
    "```\n",
    "\n",
    "It has the same behavior as the following `if`-`else` block:\n",
    "\n",
    "```\n",
    "if condition:\n",
    "    x = true_value\n",
    "else:\n",
    "    x = false_value\n",
    "```\n",
    "\n",
    "Let's try it out for the example above."
   ]
  },
  {
   "cell_type": "markdown",
   "metadata": {},
   "source": [
    "## Iteration with `while` loops\n",
    "\n",
    "Another powerful feature of programming languages, closely related to branching, is running one or more statements multiple times. This feature is often referred to as *iteration* on *looping*, and there are two ways to do this in Python: using `while` loops and `for` loops. \n",
    "\n",
    "`while` loops have the following syntax:\n",
    "\n",
    "```\n",
    "while condition:\n",
    "    statement(s)\n",
    "```\n",
    "\n",
    "Statements in the code block under `while` are executed repeatedly as long as the `condition` evaluates to `True`. Generally, one of the statements under `while` makes some change to a variable that causes the condition to evaluate to `False` after a certain number of iterations.\n",
    "\n",
    "Let's try to calculate the factorial of `100` using a `while` loop. The factorial of a number `n` is the product (multiplication) of all the numbers from `1` to `n`, i.e., `1*2*3*...*(n-2)*(n-1)*n`."
   ]
  },
  {
   "cell_type": "code",
   "execution_count": 21,
   "metadata": {},
   "outputs": [
    {
     "name": "stdout",
     "output_type": "stream",
     "text": [
      "Numbers: 1\n",
      "Numbers: 2\n",
      "Numbers: 3\n",
      "Numbers: 4\n",
      "Numbers: 5\n",
      "Numbers: 6\n",
      "Numbers: 7\n",
      "Numbers: 8\n",
      "Numbers: 9\n",
      "Numbers: 10\n"
     ]
    }
   ],
   "source": [
    "result = 1\n",
    "i=1\n",
    "while i<=10:\n",
    "    result = i\n",
    "    i+=1\n",
    "    print(\"Numbers: {}\".format(result))"
   ]
  },
  {
   "cell_type": "code",
   "execution_count": 24,
   "metadata": {},
   "outputs": [
    {
     "name": "stdout",
     "output_type": "stream",
     "text": [
      "Factorial of 10: 3628800 \n"
     ]
    }
   ],
   "source": [
    "#factorial count\n",
    "result = 1\n",
    "i =1\n",
    "\n",
    "while i<=10:\n",
    "    result = i*result\n",
    "    i +=1\n",
    "print(\"Factorial of 10: {} \".format(result))"
   ]
  },
  {
   "cell_type": "code",
   "execution_count": 10,
   "metadata": {},
   "outputs": [
    {
     "name": "stdout",
     "output_type": "stream",
     "text": [
      "*\n",
      "**\n",
      "***\n",
      "****\n",
      "*****\n",
      "******\n",
      "*******\n",
      "********\n",
      "*********\n",
      "**********\n",
      "*********\n",
      "********\n",
      "*******\n",
      "******\n",
      "*****\n",
      "****\n",
      "***\n",
      "**\n",
      "*\n",
      "CPU times: total: 0 ns\n",
      "Wall time: 1.01 ms\n"
     ]
    }
   ],
   "source": [
    "%%time\n",
    "line = '*'\n",
    "max_length = 10\n",
    "\n",
    "while len(line) < max_length:\n",
    "    print(line)\n",
    "    line += \"*\"\n",
    "\n",
    "while len(line) > 0:\n",
    "    print(line)\n",
    "    line = line[:-1] # iska matla ye hai ki aap yaha se ek ek star remove krte jaa rahe hai "
   ]
  },
  {
   "cell_type": "code",
   "execution_count": 19,
   "metadata": {},
   "outputs": [],
   "source": [
    "x = \"*yash*yahsk@8\"\n"
   ]
  },
  {
   "cell_type": "code",
   "execution_count": 20,
   "metadata": {},
   "outputs": [
    {
     "data": {
      "text/plain": [
       "'8@kshay*hsay'"
      ]
     },
     "execution_count": 20,
     "metadata": {},
     "output_type": "execute_result"
    }
   ],
   "source": [
    "x[:-2] # thi is used for the slicing concet\n",
    "x[1:] # it starts from 0 index from left --> right\n",
    "x[1:9]\n",
    "x[-1:] #niska matlab hai ye last se print krna shuru krdo \n",
    "x[-1:]\n",
    "x[:7] # yaha 0 se start hoga or 7 tak bhi nahi jaa payega\n",
    "x[-1:0:-1] #niska matlab hai ye last se print krna shuru krdo \n"
   ]
  },
  {
   "cell_type": "markdown",
   "metadata": {},
   "source": [
    "### ye concept hota hai sirf slicing k liye\n",
    ">x[start:stop:step]\n",
    "##### Where:\n",
    ">start is the index where the slice begins.\n",
    ">stop is the index where the slice ends (not including this index).\n",
    ">step determines the stride or the interval between elements.\n",
    "\n"
   ]
  },
  {
   "cell_type": "code",
   "execution_count": 5,
   "metadata": {},
   "outputs": [
    {
     "name": "stdout",
     "output_type": "stream",
     "text": [
      "*\n",
      "**\n",
      "***\n",
      "****\n",
      "*****\n",
      "******\n",
      "*******\n",
      "********\n",
      "*********\n"
     ]
    }
   ],
   "source": [
    "line = \"*\"\n",
    "max_length = 10\n",
    "\n",
    "# Growing the line\n",
    "while len(line) < max_length:\n",
    "    print(line)\n",
    "    line += \"*\"\n",
    "    "
   ]
  },
  {
   "cell_type": "markdown",
   "metadata": {},
   "source": [
    "## Iteration with `for` loops\n",
    "\n",
    "A `for` loop is used for iterating or looping over sequences, i.e., lists, tuples, dictionaries, strings, and *ranges*. For loops have the following syntax:\n",
    "\n",
    "```\n",
    "for value in sequence:\n",
    "    statement(s)\n",
    "```\n",
    "\n",
    "The statements within the loop are executed once for each element in `sequence`. Here's an example that prints all the element of a list."
   ]
  },
  {
   "cell_type": "code",
   "execution_count": 11,
   "metadata": {},
   "outputs": [
    {
     "name": "stdout",
     "output_type": "stream",
     "text": [
      "Key: name =: John Doe\n",
      "Key: sex =: Male\n",
      "Key: age =: 32\n",
      "Key: married =: True\n"
     ]
    }
   ],
   "source": [
    "# Looping over a dictionary\n",
    "person = {\n",
    "    'name': 'John Doe',\n",
    "    'sex': 'Male',\n",
    "    'age': 32,\n",
    "    'married': True\n",
    "}\n",
    "\n",
    "for key in person:\n",
    "    print(\"Key:\", key, \"=:\", person[key])"
   ]
  },
  {
   "cell_type": "markdown",
   "metadata": {},
   "source": [
    "### Iterating using `range` and `enumerate`\n",
    "\n",
    "The `range` function is used to create a sequence of numbers that can be iterated over using a `for` loop. It can be used in 3 ways:\n",
    " \n",
    "* `range(n)` - Creates a sequence of numbers from `0` to `n-1`\n",
    "* `range(a, b)` - Creates a sequence of numbers from `a` to `b-1`\n",
    "* `range(a, b, step)` - Creates a sequence of numbers from `a` to `b-1` with increments of `step`\n",
    "\n",
    "Let's try it out."
   ]
  },
  {
   "cell_type": "code",
   "execution_count": 5,
   "metadata": {},
   "outputs": [
    {
     "name": "stdout",
     "output_type": "stream",
     "text": [
      "The number is : 2\n",
      "The number is : 3\n",
      "The number is : 4\n",
      "The number is : 5\n",
      "The number is : 6\n",
      "The number is : 7\n",
      "The number is : 8\n",
      "The number is : 9\n",
      "The number is : 10\n",
      "The number is : 11\n"
     ]
    }
   ],
   "source": [
    "a= 10\n",
    "for i in range(a): # my range is 0 - 9 right so i bhi 0 to 9 tak hi jaayega \n",
    "    i+=2\n",
    "    print(\"The number is : {}\".format(i))\n",
    "    "
   ]
  },
  {
   "cell_type": "markdown",
   "metadata": {},
   "source": [
    "## Questions for Revision\n",
    "\n",
    "Try answering the following questions to test your understanding of the topics covered in this notebook:\n",
    "\n",
    "1. What is branching in programming languages?\n",
    "2. What is the purpose of the `if` statement in Python?\n",
    "3. What is the syntax of the `if` statement? Give an example.\n",
    "4. What is indentation? Why is it used?\n",
    "5. What is an indented block of statements?\n",
    "6. How do you perform indentation in Python?\n",
    "7. What happens if some code is not indented correctly?\n",
    "8. What happens when the condition within the `if` statement evaluates to `True`? What happens if the condition evaluates for `false`?\n",
    "9. How do you check if a number is even?\n",
    "10. What is the purpose of the `else` statement in Python?\n",
    "11. What is the syntax of the `else` statement? Give an example.\n",
    "12. Write a program that prints different messages based on whether a number is positive or negative.\n",
    "13. Can the `else` statement be used without an `if` statement?\n",
    "14. What is the purpose of the `elif` statement in Python?\n",
    "15. What is the syntax of the `elif` statement? Give an example.\n",
    "16. Write a program that prints different messages for different months of the year.\n",
    "17. Write a program that uses `if`, `elif`, and `else` statements together.\n",
    "18. Can the `elif` statement be used without an `if` statement?\n",
    "19. Can the `elif` statement be used without an `else` statement?\n",
    "20. What is the difference between a chain of `if`, `elif`, `elif`… statements and a chain of `if`, `if`, `if`… statements? Give an example.\n",
    "21. Can non-boolean conditions be used with `if` statements? Give some examples.\n",
    "22. What are nested conditional statements? How are they useful?\n",
    "23. Give an example of nested conditional statements.\n",
    "24. Why is it advisable to avoid nested conditional statements?\n",
    "25. What is the shorthand `if` conditional expression? \n",
    "26. What is the syntax of the shorthand `if` conditional expression? Give an example.\n",
    "27. What is the difference between the shorthand `if` expression and the regular `if` statement?\n",
    "28. What is a statement in Python?\n",
    "29. What is an expression in Python?\n",
    "30. What is the difference between statements and expressions?\n",
    "31. Is every statement an expression? Give an example or counterexample.\n",
    "32. Is every expression a statement? Give an example or counterexample.\n",
    "33. What is the purpose of the pass statement in `if` blocks?\n",
    "34. What is iteration or looping in programming languages? Why is it useful?\n",
    "35. What are the two ways for performing iteration in Python?\n",
    "36. What is the purpose of the `while` statement in Python?\n",
    "37. What is the syntax of the `white` statement in Python? Give an example.\n",
    "38. Write a program to compute the sum of the numbers 1 to 100 using a while loop. \n",
    "39. Repeat the above program for numbers up to 1000, 10000, and 100000. How long does it take each loop to complete?\n",
    "40. What is an infinite loop?\n",
    "41. What causes a program to enter an infinite loop?\n",
    "42. How do you interrupt an infinite loop within Jupyter?\n",
    "43. What is the purpose of the `break` statement in Python? \n",
    "44. Give an example of using a `break` statement within a while loop.\n",
    "45. What is the purpose of the `continue` statement in Python?\n",
    "46. Give an example of using the `continue` statement within a while loop.\n",
    "47. What is logging? How is it useful?\n",
    "48. What is the purpose of the `for` statement in Python?\n",
    "49. What is the syntax of `for` loops? Give an example.\n",
    "50. How are for loops and while loops different?\n",
    "51. How do you loop over a string? Give an example.\n",
    "52. How do you loop over a list? Give an example.\n",
    "53. How do you loop over a tuple? Give an example.\n",
    "54. How do you loop over a dictionary? Give an example.\n",
    "55. What is the purpose of the `range` statement? Give an example.\n",
    "56. What is the purpose of the `enumerate` statement? Give an example.\n",
    "57. How are the `break`, `continue`, and `pass` statements used in for loops? Give examples.\n",
    "58. Can loops be nested within other loops? How is nesting useful?\n",
    "59. Give an example of a for loop nested within another for loop.\n",
    "60. Give an example of a while loop nested within another while loop.\n",
    "61. Give an example of a for loop nested within a while loop.\n",
    "62. Give an example of a while loop nested within a for loop.\n"
   ]
  },
  {
   "cell_type": "markdown",
   "metadata": {},
   "source": [
    "When to Use pass in for Loops:\n",
    "\n",
    "    Placeholder for Future Code: When you're in the process of writing code and want to define a loop structure but haven't yet implemented the logic inside the loop.\n",
    "\n",
    "    Empty Loop Bodies: In some cases, you may design a loop structure where no action is needed for certain iterations based on conditions. Placing pass can serve as a placeholder for such scenarios.\n",
    "\n",
    "    API and Interface Design: Sometimes, when designing APIs or interfaces, you may define functions or loops with pass initially to outline the structure and fill in the details later."
   ]
  },
  {
   "cell_type": "code",
   "execution_count": 1,
   "metadata": {},
   "outputs": [
    {
     "name": "stdout",
     "output_type": "stream",
     "text": [
      "Today is the day of the moon.\n"
     ]
    }
   ],
   "source": [
    "today = 'Monday'\n",
    "\n",
    "if today == 'Sunday':\n",
    "    print(\"Today is the day of the sun.\")\n",
    "elif today == 'Monday':\n",
    "    print(\"Today is the day of the moon.\")\n",
    "elif today == 'Tuesday':\n",
    "    print(\"Today is the day of Tyr, the god of war.\")\n",
    "elif today == 'Wednesday':\n",
    "    print(\"Today is the day of Odin, the supreme diety.\")\n",
    "elif today == 'Thursday':\n",
    "    print(\"Today is the day of Thor, the god of thunder.\")\n",
    "elif today == 'Friday':\n",
    "    print(\"Today is the day of Frigga, the goddess of beauty.\")\n",
    "elif today == 'Saturday':\n",
    "    print(\"Today is the day of Saturn, the god of fun and feasting.\")\n",
    "else:\n",
    "    print(\"here is not the day which is mentioned above:\")\n",
    "    \n",
    "    #if one statement is correct then after that corrected statement all the statement not compile"
   ]
  },
  {
   "cell_type": "code",
   "execution_count": 15,
   "metadata": {},
   "outputs": [
    {
     "name": "stdout",
     "output_type": "stream",
     "text": [
      "0\n",
      "1\n",
      "2\n",
      "3\n",
      "4\n",
      "5\n",
      "6\n",
      "7\n",
      "8\n",
      "9\n"
     ]
    }
   ],
   "source": [
    "for i in range(10):# 10 is excluded from the loop so be carefull here \n",
    "    print(i) "
   ]
  },
  {
   "cell_type": "code",
   "execution_count": 19,
   "metadata": {},
   "outputs": [
    {
     "name": "stdout",
     "output_type": "stream",
     "text": [
      "Yash is having 1\n",
      "Yash is having 2\n",
      "Yash is having 3\n",
      "Yash is having 4\n",
      "Yash is having 5\n",
      "Yash is having 6\n",
      "Yash is having 7\n",
      "Yash is having 8\n",
      "Yash is having 9\n"
     ]
    }
   ],
   "source": [
    "for i in range(1, 10): #be carefull here we used , instead of : [1,10) this is the strategy\n",
    "    print(\"Yash is having {}\".format(i))"
   ]
  },
  {
   "cell_type": "code",
   "execution_count": 23,
   "metadata": {},
   "outputs": [
    {
     "name": "stdout",
     "output_type": "stream",
     "text": [
      "Yash is having 1\n",
      "Yash is having 3\n",
      "Yash is having 5\n",
      "Yash is having 7\n",
      "Yash is having 9\n",
      "Yash is having 11\n",
      "Yash is having 13\n",
      "Yash is having 15\n",
      "Yash is having 17\n",
      "Yash is having 19\n"
     ]
    }
   ],
   "source": [
    "for i in range(1, 20, 2): #yaha pr (\"Starting value, jana kaha pr hai, kitne ka gap chahiye beech mai jump sidha\")\n",
    "    print(\"Yash is having {}\".format(i))"
   ]
  },
  {
   "cell_type": "code",
   "execution_count": 25,
   "metadata": {},
   "outputs": [
    {
     "name": "stdout",
     "output_type": "stream",
     "text": [
      "today is 0 monday\n",
      "today is 1 monday\n",
      "today is 2 monday\n",
      "today is 3 monday\n",
      "today is 4 monday\n",
      "today is 5 monday\n"
     ]
    }
   ],
   "source": [
    "a_list =[\"monday\", \"monday\",\"monday\",\"monday\",\"monday\",\"monday\"]\n",
    "for i, val in enumerate(a_list):\n",
    "    print(\"today is {} {}\".format(i,val))"
   ]
  },
  {
   "cell_type": "code",
   "execution_count": 8,
   "metadata": {},
   "outputs": [
    {
     "name": "stdout",
     "output_type": "stream",
     "text": [
      "name yash\n",
      "class btech\n"
     ]
    }
   ],
   "source": [
    "names = {\"name\":\"yash\", \"class\":\"btech\"}\n",
    "for i in names:\n",
    "    print(i, names[i])  # i ne diya key ki value or names[i] ne diya value ka value key value pair hence made\n",
    "    "
   ]
  },
  {
   "cell_type": "markdown",
   "metadata": {},
   "source": [
    "The enumerate function in Python is a built-in function that adds a counter to an iterable and returns it in the form of an enumerate object. This enumerate object can then be used directly in for-loops or converted into a list of tuples using the list() method."
   ]
  },
  {
   "cell_type": "code",
   "execution_count": 21,
   "metadata": {},
   "outputs": [
    {
     "name": "stdout",
     "output_type": "stream",
     "text": [
      "0 90\n",
      "1 dog\n",
      "2 rabbit\n"
     ]
    }
   ],
   "source": [
    "# Example list\n",
    "animals = [90, 'dog', 'rabbit']\n",
    "\n",
    "# Using enumerate to get index and value\n",
    "for index, animal in enumerate(animals): # enumerate krna matlab agar hume koi cheej iterate krni hai list or tuple mai to hum enumerate krte hai\n",
    "    print(index, animal)\n"
   ]
  },
  {
   "cell_type": "code",
   "execution_count": 22,
   "metadata": {},
   "outputs": [
    {
     "name": "stdout",
     "output_type": "stream",
     "text": [
      "[(0, 'cat'), (1, 'dog'), (2, 'rabbit')]\n"
     ]
    }
   ],
   "source": [
    "# Example list\n",
    "animals = ['cat', 'dog', 'rabbit']\n",
    "\n",
    "# Creating an enumerate object\n",
    "enumerate_obj = enumerate(animals) # iska matlab hi ye hai ki ab ye iterative with index ho gaya hai \n",
    "\n",
    "# Converting to list of tuples\n",
    "enumerate_list = list(enumerate_obj)\n",
    "print(enumerate_list)\n"
   ]
  },
  {
   "cell_type": "code",
   "execution_count": 27,
   "metadata": {},
   "outputs": [
    {
     "name": "stdout",
     "output_type": "stream",
     "text": [
      "Item 0 is apple\n",
      "Item 1 is banana\n",
      "Item 2 is cherry\n"
     ]
    }
   ],
   "source": [
    "# Example list\n",
    "items = ['apple', 'banana', 'cherry']\n",
    "\n",
    "# Using enumerate to print indices and items\n",
    "for index, item in enumerate(items):\n",
    "    print(f'Item {index} is {item}')\n"
   ]
  },
  {
   "cell_type": "code",
   "execution_count": 24,
   "metadata": {},
   "outputs": [
    {
     "name": "stdout",
     "output_type": "stream",
     "text": [
      "My name is Alice and I am 30 years old.\n"
     ]
    }
   ],
   "source": [
    "name = 'Alice'\n",
    "age = 30\n",
    "message = f'My name is {name} and I am {age} years old.'\n",
    "print(message) #agar mai ye f yaha se remove krta hu, to ye poora string {} formatted nahi rahega we have to make it formatted okay "
   ]
  },
  {
   "cell_type": "markdown",
   "metadata": {},
   "source": [
    "### Markdown Table\n",
    "\n",
    "Here's the table you can use directly:\n",
    "\n",
    "| Feature                | F-String          | `format()` Method  | `%` Operator       |\n",
    "|------------------------|-------------------|-------------------|-------------------|\n",
    "| **Introduced In**      | Python 3.6        | Python 2.6        | Python 2.0        |\n",
    "| **Syntax**             | `f'...'`           | `'...' .format()` | `'...' % values`  |\n",
    "| **Performance**       | Fast              | Slower            | Fast              |\n",
    "| **Readability**       | High              | Moderate          | Low               |\n",
    "| **Expression Evaluation** | Yes            | No                | No                |\n",
    "| **Inline Expressions** | Yes              | No                | No                |\n",
    "| **Advanced Formatting** | Yes              | Yes                | Limited           |\n",
    "\n",
    "### Extended Example\n",
    "\n",
    "For additional context, here’s how each feature is represented:\n",
    "\n",
    "- **Introduced In**: The version of Python when each formatting method was introduced.\n",
    "- **Syntax**: How the formatting string is written.\n",
    "- **Performance**: Relative performance speed of each method.\n",
    "- **Readability**: How easy it is to read and write formatting expressions.\n",
    "- **Expression Evaluation**: Whether you can include expressions directly in the string.\n",
    "- **Inline Expressions**: Ability to perform operations inside the string.\n",
    "- **Advanced Formatting**: Support for complex formatting options like number precision or date formatting.\n",
    "\n",
    "Let me know if there’s anything else you’d like to know or modify!"
   ]
  }
 ],
 "metadata": {
  "kernelspec": {
   "display_name": "Python 3",
   "language": "python",
   "name": "python3"
  },
  "language_info": {
   "codemirror_mode": {
    "name": "ipython",
    "version": 3
   },
   "file_extension": ".py",
   "mimetype": "text/x-python",
   "name": "python",
   "nbconvert_exporter": "python",
   "pygments_lexer": "ipython3",
   "version": "3.9.13"
  }
 },
 "nbformat": 4,
 "nbformat_minor": 2
}
