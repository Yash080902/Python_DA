{
 "cells": [
  {
   "cell_type": "code",
   "execution_count": 10,
   "metadata": {},
   "outputs": [],
   "source": [
    "#This is Juputer NoteBook Intsalled in VS CODE and all the code is running on Python server (3.9.0)\n",
    "#We are going to cover some Basics Arithmetic Functions and many more in this First Tutorial"
   ]
  },
  {
   "cell_type": "code",
   "execution_count": 12,
   "metadata": {},
   "outputs": [
    {
     "data": {
      "text/plain": [
       "14"
      ]
     },
     "execution_count": 12,
     "metadata": {},
     "output_type": "execute_result"
    }
   ],
   "source": [
    "2+3+9 #addition operation"
   ]
  },
  {
   "cell_type": "code",
   "execution_count": 14,
   "metadata": {},
   "outputs": [
    {
     "data": {
      "text/plain": [
       "23"
      ]
     },
     "execution_count": 14,
     "metadata": {},
     "output_type": "execute_result"
    }
   ],
   "source": [
    "99-76 #subtratcion Operation "
   ]
  },
  {
   "cell_type": "code",
   "execution_count": 15,
   "metadata": {},
   "outputs": [
    {
     "data": {
      "text/plain": [
       "1078.8000000000002"
      ]
     },
     "execution_count": 15,
     "metadata": {},
     "output_type": "execute_result"
    }
   ],
   "source": [
    "89.90 * 12"
   ]
  },
  {
   "cell_type": "code",
   "execution_count": 17,
   "metadata": {},
   "outputs": [],
   "source": [
    "#Variable assignment\n",
    "Value = 89.90 * 12"
   ]
  },
  {
   "cell_type": "code",
   "execution_count": 18,
   "metadata": {},
   "outputs": [
    {
     "data": {
      "text/plain": [
       "1078.8000000000002"
      ]
     },
     "execution_count": 18,
     "metadata": {},
     "output_type": "execute_result"
    }
   ],
   "source": [
    "Value"
   ]
  },
  {
   "cell_type": "code",
   "execution_count": 21,
   "metadata": {},
   "outputs": [
    {
     "data": {
      "text/plain": [
       "1078"
      ]
     },
     "execution_count": 21,
     "metadata": {},
     "output_type": "execute_result"
    }
   ],
   "source": [
    "int(Value) # this is the parsing from float number to integer in just one step"
   ]
  },
  {
   "cell_type": "code",
   "execution_count": 22,
   "metadata": {},
   "outputs": [
    {
     "data": {
      "text/plain": [
       "14.285714285714286"
      ]
     },
     "execution_count": 22,
     "metadata": {},
     "output_type": "execute_result"
    }
   ],
   "source": [
    "100 /7 # float value return by /"
   ]
  },
  {
   "cell_type": "code",
   "execution_count": 24,
   "metadata": {},
   "outputs": [
    {
     "data": {
      "text/plain": [
       "14"
      ]
     },
     "execution_count": 24,
     "metadata": {},
     "output_type": "execute_result"
    }
   ],
   "source": [
    "100 // 7 # integer value return by //"
   ]
  },
  {
   "cell_type": "code",
   "execution_count": 26,
   "metadata": {},
   "outputs": [
    {
     "data": {
      "text/plain": [
       "2"
      ]
     },
     "execution_count": 26,
     "metadata": {},
     "output_type": "execute_result"
    }
   ],
   "source": [
    "100 % 7 # this is reminder when 7 divides 11"
   ]
  },
  {
   "cell_type": "code",
   "execution_count": 28,
   "metadata": {},
   "outputs": [
    {
     "data": {
      "text/plain": [
       "318.5"
      ]
     },
     "execution_count": 28,
     "metadata": {},
     "output_type": "execute_result"
    }
   ],
   "source": [
    "((2+5)*(3_9)/(6/7))  #BODMAS RULE FOLLOWED"
   ]
  },
  {
   "cell_type": "markdown",
   "metadata": {},
   "source": [
    "## Solving multi-step problems using variables\n",
    "\n",
    "Let's try solving the following word problem using Python:\n",
    "\n",
    "> A grocery store sells a bag of ice for $1.25 and makes a 20% profit. If it sells 500 bags of ice, how much total profit does it make?\n",
    "\n",
    "We can list out the information provided and gradually convert the word problem into a mathematical expression that can be evaluated using Python.\n",
    "\n",
    "*Cost of ice bag ($)* = 1.25\n",
    "\n",
    "*Profit margin* = 20% = .2\n",
    "\n",
    "*Profit per bag ($)* = profit margin * cost of ice bag = .2 * 1.25\n",
    "\n",
    "*No. of bags* = 500\n",
    "\n",
    "*Total profit* = no. of bags * profit per bag = 500 * (.2 * 1.25)"
   ]
  },
  {
   "cell_type": "code",
   "execution_count": 1,
   "metadata": {},
   "outputs": [
    {
     "name": "stdout",
     "output_type": "stream",
     "text": [
      "The grocery store makes a total profit of $ 125.0\n"
     ]
    }
   ],
   "source": [
    "# Store input data in variables\n",
    "cost_of_ice_bag = 1.25\n",
    "profit_margin = .2\n",
    "number_of_bags = 500\n",
    "\n",
    "# Perform the required calculations\n",
    "profit_per_bag = cost_of_ice_bag * profit_margin\n",
    "total_profit = number_of_bags * profit_per_bag\n",
    "\n",
    "# Display the result\n",
    "print(\"The grocery store makes a total profit of $\", total_profit)"
   ]
  },
  {
   "cell_type": "markdown",
   "metadata": {},
   "source": [
    "# Evaluating conditions using Python\n",
    "\n",
    "Apart from arithmetic operations, Python also provides several operations for comparing numbers & variables.\n",
    "\n",
    "| Operator | Description                                              |\n",
    "|----------|----------------------------------------------------------|\n",
    "| ==       | Check if operands are equal                              |\n",
    "| !=       | Check if operands are not equal                          |\n",
    "| >        | Check if left operand is greater than right operand      |\n",
    "| <        | Check if left operand is less than right operand         |\n",
    "| >=       | Check if left operand is greater than or equal to right  |\n",
    "| <=       | Check if left operand is less than or equal to right     |\n",
    "\n",
    "The result of a comparison operation is either **True** or **False** (note the uppercase T and F). These are special keywords in Python. Let's try out some experiments with comparison operators."
   ]
  },
  {
   "cell_type": "markdown",
   "metadata": {},
   "source": [
    "## Questions for Revision\n",
    "\n",
    "Try answering the following questions to test your understanding of the topics covered in this notebook:\n",
    "\n",
    "1. What is a Jupyter notebook?\n",
    "2. How do you add a new code cell below an existing cell?\n",
    "3. How do you add a new Markdown cell below an existing cell?\n",
    "4. How do you convert a code cell to a Markdown cell or vice versa?\n",
    "5. How do you execute a code cell within Jupyter?\n",
    "6. What the different arithmetic operations supported in Python?\n",
    "7. How do you perform arithmetic operations using Python?\n",
    "8. What is the difference between the `/` and the `//` operators?\n",
    "9. What is the difference between the `*` and the `**` operators?\n",
    "10. What is the order of precedence for arithmetic operators in Python?\n",
    "11. How do you specify the order in which arithmetic operations are performed in an expression involving multiple operators?\n",
    "12. How do you solve a multi-step arithmetic word problem using Python?\n",
    "13. What are variables? Why are they useful?\n",
    "14. How do you create a variable in Python?\n",
    "15. What is the assignment operator in Python?\n",
    "16. What are the rules for naming a variable in Python?\n",
    "17. How do you view the value of a variable?\n",
    "18. How do you store the result of an arithmetic expression in a variable?\n",
    "19. What happens if you try to access a variable that has not been defined?\n",
    "20. How do you display messages in Python?\n",
    "21. What type of inputs can the print function accept?\n",
    "22. What are code comments? How are they useful?\n",
    "23. What are the different ways of creating comments in Python code?\n",
    "24. What are the different comparison operations supported in Python?\n",
    "25. What is the result of a comparison operation?\n",
    "26. What is the difference between `=` and `==` in Python?\n",
    "27. What are the logical operators supported in Python?\n",
    "28. What is the difference between the `and` and `or` operators?\n",
    "29. Can you use comparison and logical operators in the same expression?\n",
    "30. What is the purpose of using parentheses in arithmetic or logical expressions?\n",
    "31. What is Markdown? Why is it useful?\n",
    "32. How do you create headings of different sizes using Markdown?\n",
    "33. How do you create bulleted and numbered lists using Markdown?\n",
    "34. How do you create bold or italic text using Markdown?\n",
    "35. How do you include links & images within Markdown cells?\n",
    "36. How do you include code blocks within Markdown cells?\n",
    "37. Is it possible to execute the code blocks within Markdown cells?\n",
    "38. How do you upload and share your Jupyter notebook online using Jovian?\n",
    "39. Where can you learn about arithmetic, conditional and logical operations in Python?"
   ]
  },
  {
   "cell_type": "markdown",
   "metadata": {},
   "source": [
    "# Answers of the above Questions:\n",
    "\n",
    "1. A Jupyter notebook is an interactive computing environment that allows you to create and share documents containing live code, equations, visualizations, and narrative text.\n",
    "\n",
    "2. To add a new code cell below an existing cell in Jupyter, press `B` in command mode (press `Esc` to enter command mode first).\n",
    "\n",
    "3. To add a new Markdown cell below an existing cell in Jupyter, press `M` in command mode (press `Esc` to enter command mode first).\n",
    "\n",
    "4. To convert a code cell to a Markdown cell in Jupyter, select the cell, press `Esc` to enter command mode, then press `M`. Vice versa, press `Y` after selecting the cell to convert a Markdown cell to a code cell.\n",
    "\n",
    "5. To execute a code cell in Jupyter, press `Shift + Enter` while the cursor is in the cell.\n",
    "\n",
    "6. The different arithmetic operations supported in Python include addition (`+`), subtraction (`-`), multiplication (`*`), division (`/`), modulus (`%`), exponentiation (`**`), and floor division (`//`).\n",
    "\n",
    "7. Arithmetic operations in Python are performed using operators like `+`, `-`, `*`, `/`, `%`, `**`, and `//`.\n",
    "\n",
    "8. `/` performs standard division in Python, while `//` performs floor division, which returns the quotient without the remainder.\n",
    "\n",
    "9. `*` is the multiplication operator, whereas `**` is used for exponentiation in Python.\n",
    "\n",
    "10. The order of precedence for arithmetic operators in Python follows PEMDAS/BODMAS rules: Parentheses, Exponents, Multiplication and Division (left to right), Addition and Subtraction (left to right).\n",
    "\n",
    "11. To specify the order of operations in an expression involving multiple operators, use parentheses `()` to group sub-expressions.\n",
    "\n",
    "12. To solve a multi-step arithmetic word problem using Python, break down the problem into smaller steps and use appropriate arithmetic operations in Python code to solve each step.\n",
    "\n",
    "13. Variables in Python are containers used to store data values, and they are useful for storing and manipulating data in programs.\n",
    "\n",
    "14. You create a variable in Python by assigning a value to a name using the assignment operator `=`.\n",
    "\n",
    "15. The assignment operator (`=`) in Python is used to assign a value to a variable.\n",
    "\n",
    "16. Rules for naming a variable in Python include using only letters, numbers, or underscores (no spaces or special characters), and variables cannot start with a number.\n",
    "\n",
    "17. To view the value of a variable in Python, simply type the variable name and execute the cell.\n",
    "\n",
    "18. To store the result of an arithmetic expression in a variable in Python, use the assignment operator `=` to assign the result to the variable.\n",
    "\n",
    "19. If you try to access a variable that has not been defined in Python, you will get a `NameError` indicating that the variable is not defined.\n",
    "\n",
    "20. To display messages in Python, use the `print()` function with the message enclosed in quotes or variables containing the message.\n",
    "\n",
    "21. The `print()` function in Python can accept strings, variables, numbers, and other data types as inputs.\n",
    "\n",
    "22. Code comments in Python are annotations within the code that are not executed and are useful for documenting code, explaining its logic, and improving readability.\n",
    "\n",
    "23. Different ways of creating comments in Python include using `#` for single-line comments and triple quotes (`\"\"\" \"\"\"` or `''' '''`) for multi-line comments.\n",
    "\n",
    "24. The different comparison operations supported in Python include `==` (equal), `!=` (not equal), `>`, `<`, `>=` (greater than or equal), and `<=` (less than or equal).\n",
    "\n",
    "25. The result of a comparison operation in Python is a Boolean value (`True` or `False`).\n",
    "\n",
    "26. In Python, `=` is the assignment operator used to assign values to variables, while `==` is the equality operator used to compare values.\n",
    "\n",
    "27. Logical operators supported in Python include `and`, `or`, and `not`.\n",
    "\n",
    "28. The `and` operator in Python returns `True` if both operands are `True`, whereas the `or` operator returns `True` if at least one operand is `True`.\n",
    "\n",
    "29. Yes, you can use comparison and logical operators together in the same expression to create complex conditions in Python.\n",
    "\n",
    "30. Parentheses `()` are used in Python to specify the order of operations in arithmetic or logical expressions, overriding the default precedence rules.\n",
    "\n",
    "31. Markdown is a lightweight markup language that allows you to format text using easy-to-write syntax, useful for creating formatted documents and notes.\n",
    "\n",
    "32. To create headings of different sizes using Markdown, use one to six `#` symbols followed by a space for headings from largest to smallest.\n",
    "\n",
    "33. To create bulleted lists in Markdown, use `-` or `*` followed by a space for each item. Numbered lists are created using numbers followed by a period (`1.`, `2.`, etc.).\n",
    "\n",
    "34. To create bold text in Markdown, surround the text with double asterisks `**` or double underscores `__`. For italic text, use single asterisks `*` or underscores `_`.\n",
    "\n",
    "35. To include links in Markdown, use `[link text](URL)` syntax. To include images, use `![Alt text](image_url_or_path)`.\n",
    "\n",
    "36. To include code blocks in Markdown, use triple backticks (` ``` `) followed by the programming language name (optional) before and after the code snippet.\n",
    "\n",
    "37. No, code blocks within Markdown cells in Jupyter Notebooks are not executable directly; they are for displaying code snippets or examples.\n",
    "\n",
    "38. To upload and share your Jupyter notebook online using Jovian, install Jovian (`pip install jovian`) and use `jovian.commit()` in your notebook after creating an account on Jovian.ai.\n",
    "\n",
    "39. You can learn about arithmetic, conditional, and logical operations in Python from online tutorials, Python documentation, books on Python programming, and various online courses and platforms like Khan Academy, Coursera, edX, and others.\n"
   ]
  },
  {
   "cell_type": "code",
   "execution_count": 3,
   "metadata": {},
   "outputs": [],
   "source": [
    "cost = 5000\n",
    "number_of_people = 29\n",
    "charge_per_ticket = 200\n"
   ]
  },
  {
   "cell_type": "code",
   "execution_count": 5,
   "metadata": {},
   "outputs": [],
   "source": [
    "total_profit_plane = number_of_people * charge_per_ticket - cost"
   ]
  },
  {
   "cell_type": "code",
   "execution_count": 6,
   "metadata": {},
   "outputs": [
    {
     "name": "stdout",
     "output_type": "stream",
     "text": [
      "800\n"
     ]
    }
   ],
   "source": [
    "print(total_profit_plane)"
   ]
  }
 ],
 "metadata": {
  "kernelspec": {
   "display_name": "Python 3",
   "language": "python",
   "name": "python3"
  },
  "language_info": {
   "codemirror_mode": {
    "name": "ipython",
    "version": 3
   },
   "file_extension": ".py",
   "mimetype": "text/x-python",
   "name": "python",
   "nbconvert_exporter": "python",
   "pygments_lexer": "ipython3",
   "version": "3.9.13"
  }
 },
 "nbformat": 4,
 "nbformat_minor": 2
}
