{
 "cells": [
  {
   "cell_type": "markdown",
   "metadata": {},
   "source": [
    "# Answers of Previous Questions\n",
    "\n",
    "![](https://t4.ftcdn.net/jpg/02/15/16/29/360_F_215162905_rVUjXRoWFiTwmYm4thcBEhxg9wQhQAH7.jpg)"
   ]
  },
  {
   "cell_type": "code",
   "execution_count": 2,
   "metadata": {},
   "outputs": [
    {
     "data": {
      "text/plain": [
       "str"
      ]
     },
     "execution_count": 2,
     "metadata": {},
     "output_type": "execute_result"
    }
   ],
   "source": [
    "Container = \"Yash\"\n",
    "\n",
    "type(Container)"
   ]
  },
  {
   "cell_type": "code",
   "execution_count": 4,
   "metadata": {},
   "outputs": [],
   "source": [
    "counter = 1\n",
    "counter +=4"
   ]
  },
  {
   "cell_type": "code",
   "execution_count": 5,
   "metadata": {},
   "outputs": [
    {
     "name": "stdout",
     "output_type": "stream",
     "text": [
      "5\n"
     ]
    }
   ],
   "source": [
    "print(counter)"
   ]
  },
  {
   "cell_type": "code",
   "execution_count": 6,
   "metadata": {},
   "outputs": [],
   "source": [
    "data = 4.0"
   ]
  },
  {
   "cell_type": "code",
   "execution_count": 7,
   "metadata": {},
   "outputs": [
    {
     "data": {
      "text/plain": [
       "float"
      ]
     },
     "execution_count": 7,
     "metadata": {},
     "output_type": "execute_result"
    }
   ],
   "source": [
    "type(data)"
   ]
  },
  {
   "cell_type": "code",
   "execution_count": 2,
   "metadata": {},
   "outputs": [
    {
     "name": "stdout",
     "output_type": "stream",
     "text": [
      "6.023e+23\n"
     ]
    }
   ],
   "source": [
    "large_number = 6.023e23\n",
    "print(large_number)"
   ]
  },
  {
   "cell_type": "code",
   "execution_count": 6,
   "metadata": {},
   "outputs": [
    {
     "data": {
      "text/plain": [
       "int"
      ]
     },
     "execution_count": 6,
     "metadata": {},
     "output_type": "execute_result"
    }
   ],
   "source": [
    "newn=int(large_number)\n",
    "\n",
    "type(newn)"
   ]
  },
  {
   "cell_type": "code",
   "execution_count": 10,
   "metadata": {},
   "outputs": [],
   "source": [
    "names = [\"yash\", \"rahul\", \"govind\", \"akshya\"]"
   ]
  },
  {
   "cell_type": "code",
   "execution_count": 12,
   "metadata": {},
   "outputs": [
    {
     "data": {
      "text/plain": [
       "['yash', 'rahul']"
      ]
     },
     "execution_count": 12,
     "metadata": {},
     "output_type": "execute_result"
    }
   ],
   "source": [
    "names[:2] # 2 is not included here "
   ]
  },
  {
   "cell_type": "code",
   "execution_count": 12,
   "metadata": {},
   "outputs": [
    {
     "name": "stdout",
     "output_type": "stream",
     "text": [
      "Index: 0, Element: yash\n",
      "Index: 1, Element: rahul\n",
      "Index: 2, Element: govind\n",
      "Index: 3, Element: akshya\n"
     ]
    }
   ],
   "source": [
    "names = [\"yash\", \"rahul\", \"govind\", \"akshya\"]\n",
    "\n",
    "# Print the index and element\n",
    "for index, name in enumerate(names):\n",
    "    print(f\"Index: {index}, Element: {name}\")\n"
   ]
  },
  {
   "cell_type": "markdown",
   "metadata": {},
   "source": [
    "> All the very best "
   ]
  },
  {
   "cell_type": "code",
   "execution_count": 13,
   "metadata": {},
   "outputs": [
    {
     "data": {
      "text/plain": [
       "['yash', 'rahul', 'govind']"
      ]
     },
     "execution_count": 13,
     "metadata": {},
     "output_type": "execute_result"
    }
   ],
   "source": [
    "names[:-1]\n"
   ]
  },
  {
   "cell_type": "markdown",
   "metadata": {},
   "source": [
    "In most programming languages, such as Python, there is no functional difference between strings created using single quotes (`'`) and those created using double quotes (`\"`). Both can be used interchangeably to define string literals. The choice between single and double quotes is mainly a matter of style and convenience. Here are some key points to consider:\n",
    "\n",
    "1. **Consistency**: It is good practice to be consistent in your choice of quote style within a project or codebase.\n",
    "\n",
    "2. **Including Quotes in Strings**:\n",
    "   - If your string contains a single quote, it can be easier to use double quotes to avoid the need for escaping:\n",
    "     ```python\n",
    "     string1 = \"It's a sunny day\"\n",
    "     ```\n",
    "   - Conversely, if your string contains a double quote, it can be easier to use single quotes:\n",
    "     ```python\n",
    "     string2 = 'He said, \"Hello, world!\"'\n",
    "     ```\n",
    "\n",
    "3. **Escaping**: If you need to include both types of quotes within a string, you can use escaping:\n",
    "   ```python\n",
    "   string3 = 'It\\'s a \"sunny\" day'\n",
    "   string4 = \"It's a \\\"sunny\\\" day\"\n",
    "   ```\n",
    "\n",
    "4. **Multiline Strings**: For multiline strings, triple quotes (either single or double) are typically used:\n",
    "   ```python\n",
    "   multiline_string1 = '''This is a \n",
    "   multiline string using single quotes'''\n",
    "   \n",
    "   multiline_string2 = \"\"\"This is a \n",
    "   multiline string using double quotes\"\"\"\n",
    "   ```\n",
    "\n",
    "Here's an example in Python to illustrate the use of single and double quotes:\n",
    "\n",
    "```python\n",
    "string1 = 'Hello, world!'\n",
    "string2 = \"Hello, world!\"\n",
    "\n",
    "# Both are equivalent\n",
    "print(string1)  # Output: Hello, world!\n",
    "print(string2)  # Output: Hello, world!\n",
    "```\n",
    "\n",
    "In summary, single and double quotes can be used interchangeably in most programming languages, and the choice often comes down to personal or project-specific coding style preferences."
   ]
  },
  {
   "cell_type": "markdown",
   "metadata": {},
   "source": []
  }
 ],
 "metadata": {
  "kernelspec": {
   "display_name": "Python 3",
   "language": "python",
   "name": "python3"
  },
  "language_info": {
   "codemirror_mode": {
    "name": "ipython",
    "version": 3
   },
   "file_extension": ".py",
   "mimetype": "text/x-python",
   "name": "python",
   "nbconvert_exporter": "python",
   "pygments_lexer": "ipython3",
   "version": "3.9.13"
  }
 },
 "nbformat": 4,
 "nbformat_minor": 2
}
